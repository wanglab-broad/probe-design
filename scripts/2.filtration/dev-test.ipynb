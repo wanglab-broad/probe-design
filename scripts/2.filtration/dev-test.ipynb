{
 "cells": [
  {
   "cell_type": "code",
   "execution_count": 15,
   "id": "22ac2f3e-a23d-4ab9-900c-e4fa49f0050b",
   "metadata": {},
   "outputs": [
    {
     "name": "stdout",
     "output_type": "stream",
     "text": [
      "The autoreload extension is already loaded. To reload it, use:\n",
      "  %reload_ext autoreload\n"
     ]
    }
   ],
   "source": [
    "from probe import *\n",
    "\n",
    "%load_ext autoreload\n",
    "%autoreload 2"
   ]
  },
  {
   "cell_type": "code",
   "execution_count": 16,
   "id": "07df1eb2-c06b-4f65-bc2f-5e2984dca3dd",
   "metadata": {},
   "outputs": [
    {
     "data": {
      "text/html": [
       "<div>\n",
       "<style scoped>\n",
       "    .dataframe tbody tr th:only-of-type {\n",
       "        vertical-align: middle;\n",
       "    }\n",
       "\n",
       "    .dataframe tbody tr th {\n",
       "        vertical-align: top;\n",
       "    }\n",
       "\n",
       "    .dataframe thead th {\n",
       "        text-align: right;\n",
       "    }\n",
       "</style>\n",
       "<table border=\"1\" class=\"dataframe\">\n",
       "  <thead>\n",
       "    <tr style=\"text-align: right;\">\n",
       "      <th></th>\n",
       "      <th>Cluster ID</th>\n",
       "      <th>Unnamed: 1</th>\n",
       "      <th>Gene1</th>\n",
       "      <th>Gene2</th>\n",
       "      <th>Gene3</th>\n",
       "      <th>Gene4</th>\n",
       "      <th>Gene5</th>\n",
       "    </tr>\n",
       "  </thead>\n",
       "  <tbody>\n",
       "    <tr>\n",
       "      <th>0</th>\n",
       "      <td>TEGLU1</td>\n",
       "      <td>Marker</td>\n",
       "      <td>Myl4</td>\n",
       "      <td>Cpne4</td>\n",
       "      <td>Olfm3</td>\n",
       "      <td>Gm11549</td>\n",
       "      <td>Plcxd2</td>\n",
       "    </tr>\n",
       "    <tr>\n",
       "      <th>1</th>\n",
       "      <td>TEGLU1</td>\n",
       "      <td>Specificity</td>\n",
       "      <td>0</td>\n",
       "      <td>0.5</td>\n",
       "      <td>1</td>\n",
       "      <td>1</td>\n",
       "      <td>1</td>\n",
       "    </tr>\n",
       "    <tr>\n",
       "      <th>2</th>\n",
       "      <td>TEGLU1</td>\n",
       "      <td>Selectivity</td>\n",
       "      <td>7</td>\n",
       "      <td>1</td>\n",
       "      <td>1</td>\n",
       "      <td>1</td>\n",
       "      <td>1</td>\n",
       "    </tr>\n",
       "    <tr>\n",
       "      <th>3</th>\n",
       "      <td>TEGLU1</td>\n",
       "      <td>Robustness</td>\n",
       "      <td>1</td>\n",
       "      <td>1</td>\n",
       "      <td>1</td>\n",
       "      <td>1</td>\n",
       "      <td>1</td>\n",
       "    </tr>\n",
       "    <tr>\n",
       "      <th>4</th>\n",
       "      <td>TEGLU3</td>\n",
       "      <td>Marker</td>\n",
       "      <td>Rprm</td>\n",
       "      <td>Rell1</td>\n",
       "      <td>3110035E14Rik</td>\n",
       "      <td>Tbr1</td>\n",
       "      <td>Garnl3</td>\n",
       "    </tr>\n",
       "    <tr>\n",
       "      <th>...</th>\n",
       "      <td>...</td>\n",
       "      <td>...</td>\n",
       "      <td>...</td>\n",
       "      <td>...</td>\n",
       "      <td>...</td>\n",
       "      <td>...</td>\n",
       "      <td>...</td>\n",
       "    </tr>\n",
       "    <tr>\n",
       "      <th>1055</th>\n",
       "      <td>MGL2</td>\n",
       "      <td>Robustness</td>\n",
       "      <td>1</td>\n",
       "      <td>1</td>\n",
       "      <td>1</td>\n",
       "      <td>1</td>\n",
       "      <td>1</td>\n",
       "    </tr>\n",
       "    <tr>\n",
       "      <th>1056</th>\n",
       "      <td>MGL1</td>\n",
       "      <td>Marker</td>\n",
       "      <td>P2ry12</td>\n",
       "      <td>Ccr6</td>\n",
       "      <td>Gpr34</td>\n",
       "      <td>Trem2</td>\n",
       "      <td>Ctss</td>\n",
       "    </tr>\n",
       "    <tr>\n",
       "      <th>1057</th>\n",
       "      <td>MGL1</td>\n",
       "      <td>Specificity</td>\n",
       "      <td>0</td>\n",
       "      <td>0.7</td>\n",
       "      <td>0.7</td>\n",
       "      <td>0.7</td>\n",
       "      <td>0.7</td>\n",
       "    </tr>\n",
       "    <tr>\n",
       "      <th>1058</th>\n",
       "      <td>MGL1</td>\n",
       "      <td>Selectivity</td>\n",
       "      <td>4</td>\n",
       "      <td>1</td>\n",
       "      <td>1</td>\n",
       "      <td>1</td>\n",
       "      <td>1</td>\n",
       "    </tr>\n",
       "    <tr>\n",
       "      <th>1059</th>\n",
       "      <td>MGL1</td>\n",
       "      <td>Robustness</td>\n",
       "      <td>1</td>\n",
       "      <td>1</td>\n",
       "      <td>1</td>\n",
       "      <td>1</td>\n",
       "      <td>1</td>\n",
       "    </tr>\n",
       "  </tbody>\n",
       "</table>\n",
       "<p>1060 rows × 7 columns</p>\n",
       "</div>"
      ],
      "text/plain": [
       "     Cluster ID   Unnamed: 1   Gene1  Gene2          Gene3    Gene4   Gene5\n",
       "0        TEGLU1       Marker    Myl4  Cpne4          Olfm3  Gm11549  Plcxd2\n",
       "1        TEGLU1  Specificity       0    0.5              1        1       1\n",
       "2        TEGLU1  Selectivity       7      1              1        1       1\n",
       "3        TEGLU1   Robustness       1      1              1        1       1\n",
       "4        TEGLU3       Marker    Rprm  Rell1  3110035E14Rik     Tbr1  Garnl3\n",
       "...         ...          ...     ...    ...            ...      ...     ...\n",
       "1055       MGL2   Robustness       1      1              1        1       1\n",
       "1056       MGL1       Marker  P2ry12   Ccr6          Gpr34    Trem2    Ctss\n",
       "1057       MGL1  Specificity       0    0.7            0.7      0.7     0.7\n",
       "1058       MGL1  Selectivity       4      1              1        1       1\n",
       "1059       MGL1   Robustness       1      1              1        1       1\n",
       "\n",
       "[1060 rows x 7 columns]"
      ]
     },
     "execution_count": 16,
     "metadata": {},
     "output_type": "execute_result"
    }
   ],
   "source": [
    "df = pd.read_excel('/Users/jiahao/Downloads/1-s2.0-S009286741830789X-mmc4.xlsx')\n",
    "df"
   ]
  },
  {
   "cell_type": "code",
   "execution_count": 17,
   "id": "c1e9405e-90a3-49e6-abed-12d653ec0c7a",
   "metadata": {},
   "outputs": [],
   "source": [
    "df = get_first_n_records(df, 'Cluster ID', 3)"
   ]
  },
  {
   "cell_type": "code",
   "execution_count": 21,
   "id": "e1d7111c-efcd-4f20-98d9-d40abdd0c5f8",
   "metadata": {},
   "outputs": [
    {
     "data": {
      "text/plain": [
       "False"
      ]
     },
     "execution_count": 21,
     "metadata": {},
     "output_type": "execute_result"
    }
   ],
   "source": [
    "a = 5\n",
    "b = 13\n",
    "\n",
    "4 <= a <= 7 & 7 <= b <=11"
   ]
  },
  {
   "cell_type": "code",
   "execution_count": null,
   "id": "96e860dd-2123-48fd-b85d-ec838ede3272",
   "metadata": {},
   "outputs": [],
   "source": []
  }
 ],
 "metadata": {
  "kernelspec": {
   "display_name": "Python 3 (ipykernel)",
   "language": "python",
   "name": "python3"
  },
  "language_info": {
   "codemirror_mode": {
    "name": "ipython",
    "version": 3
   },
   "file_extension": ".py",
   "mimetype": "text/x-python",
   "name": "python",
   "nbconvert_exporter": "python",
   "pygments_lexer": "ipython3",
   "version": "3.8.13"
  }
 },
 "nbformat": 4,
 "nbformat_minor": 5
}
