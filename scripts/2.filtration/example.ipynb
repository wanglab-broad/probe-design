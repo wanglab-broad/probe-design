{
 "cells": [
  {
   "cell_type": "markdown",
   "id": "43b57ee4-4879-4218-8c89-303d59d28885",
   "metadata": {},
   "source": [
    "# Picky file parsing example"
   ]
  },
  {
   "cell_type": "code",
   "execution_count": 8,
   "id": "383291bb-53ef-490d-8fb8-3ffe41a162c7",
   "metadata": {},
   "outputs": [
    {
     "name": "stdout",
     "output_type": "stream",
     "text": [
      "The autoreload extension is already loaded. To reload it, use:\n",
      "  %reload_ext autoreload\n"
     ]
    }
   ],
   "source": [
    "from probe import *\n",
    "\n",
    "%load_ext autoreload\n",
    "%autoreload 2"
   ]
  },
  {
   "cell_type": "markdown",
   "id": "c71e1359-3e37-4c03-a0e8-cadb4b328586",
   "metadata": {},
   "source": [
    "## Single file "
   ]
  },
  {
   "cell_type": "code",
   "execution_count": 20,
   "id": "76298c35-f2d7-4e6d-8af7-7d2fc1701925",
   "metadata": {},
   "outputs": [],
   "source": [
    "# set input \n",
    "input_file = './test-files/input-example-1.picky'\n",
    "source_index = 1"
   ]
  },
  {
   "cell_type": "code",
   "execution_count": 32,
   "id": "9b897099-e05a-462b-a6c5-ae099055daa3",
   "metadata": {},
   "outputs": [
    {
     "name": "stdout",
     "output_type": "stream",
     "text": [
      "(1250, 13)\n",
      "CPU times: user 3.24 s, sys: 16.7 ms, total: 3.26 s\n",
      "Wall time: 3.26 s\n"
     ]
    },
    {
     "data": {
      "text/html": [
       "<div>\n",
       "<style scoped>\n",
       "    .dataframe tbody tr th:only-of-type {\n",
       "        vertical-align: middle;\n",
       "    }\n",
       "\n",
       "    .dataframe tbody tr th {\n",
       "        vertical-align: top;\n",
       "    }\n",
       "\n",
       "    .dataframe thead th {\n",
       "        text-align: right;\n",
       "    }\n",
       "</style>\n",
       "<table border=\"1\" class=\"dataframe\">\n",
       "  <thead>\n",
       "    <tr style=\"text-align: right;\">\n",
       "      <th></th>\n",
       "      <th>Annotation</th>\n",
       "      <th>Start</th>\n",
       "      <th>End</th>\n",
       "      <th>TargetSequence</th>\n",
       "      <th>Tm</th>\n",
       "      <th>ReverseComplement</th>\n",
       "      <th>Primer</th>\n",
       "      <th>Primer Tm</th>\n",
       "      <th>Spacer</th>\n",
       "      <th>Padlock</th>\n",
       "      <th>Padlock Tm</th>\n",
       "      <th>DeltaTm</th>\n",
       "      <th>source_index</th>\n",
       "    </tr>\n",
       "  </thead>\n",
       "  <tbody>\n",
       "    <tr>\n",
       "      <th>0</th>\n",
       "      <td>NG_000006.1</td>\n",
       "      <td>26327</td>\n",
       "      <td>26368</td>\n",
       "      <td>CTGGGGTCCTTGAGTCGGACGGGCGTTTGTGCGTCTCCCGGC</td>\n",
       "      <td>91.22</td>\n",
       "      <td>GCCGGGAGACGCACAAACGCCCGTCCGACTCAAGGACCCCAG</td>\n",
       "      <td>GCCGGGAGACGCACAAACG</td>\n",
       "      <td>75.422692</td>\n",
       "      <td>CC</td>\n",
       "      <td>CGTCCGACTCAAGGACCCCAG</td>\n",
       "      <td>75.262572</td>\n",
       "      <td>0.160120</td>\n",
       "      <td>1</td>\n",
       "    </tr>\n",
       "    <tr>\n",
       "      <th>1</th>\n",
       "      <td>NG_000006.1</td>\n",
       "      <td>41924</td>\n",
       "      <td>41968</td>\n",
       "      <td>AGTTCCTGAGCCACGTTATCTCGGCGCTGGTTTCCGAGTACCGCT</td>\n",
       "      <td>89.22</td>\n",
       "      <td>AGCGGTACTCGGAAACCAGCGCCGAGATAACGTGGCTCAGGAACT</td>\n",
       "      <td>AGCGGTACTCGGAAACCAGC</td>\n",
       "      <td>73.668260</td>\n",
       "      <td>GC</td>\n",
       "      <td>CGAGATAACGTGGCTCAGGAACT</td>\n",
       "      <td>72.453816</td>\n",
       "      <td>1.214443</td>\n",
       "      <td>1</td>\n",
       "    </tr>\n",
       "    <tr>\n",
       "      <th>2</th>\n",
       "      <td>NG_007066.1</td>\n",
       "      <td>4920</td>\n",
       "      <td>4959</td>\n",
       "      <td>ACTTTGCACCAGTCCGAGGGAATTTGCGGTCGGTGACGCG</td>\n",
       "      <td>87.69</td>\n",
       "      <td>CGCGTCACCGACCGCAAATTCCCTCGGACTGGTGCAAAGT</td>\n",
       "      <td>CGCGTCACCGACCGCAAAT</td>\n",
       "      <td>75.143061</td>\n",
       "      <td>T</td>\n",
       "      <td>CCCTCGGACTGGTGCAAAGT</td>\n",
       "      <td>73.865102</td>\n",
       "      <td>1.277960</td>\n",
       "      <td>1</td>\n",
       "    </tr>\n",
       "    <tr>\n",
       "      <th>3</th>\n",
       "      <td>NG_007082.2</td>\n",
       "      <td>83837</td>\n",
       "      <td>83877</td>\n",
       "      <td>CTCCGGGGACATTACAAGCTGGTCGCCGTCATATTGGTAGC</td>\n",
       "      <td>83.78</td>\n",
       "      <td>GCTACCAATATGACGGCGACCAGCTTGTAATGTCCCCGGAG</td>\n",
       "      <td>GCTACCAATATGACGGCGAC</td>\n",
       "      <td>69.692239</td>\n",
       "      <td>C</td>\n",
       "      <td>AGCTTGTAATGTCCCCGGAG</td>\n",
       "      <td>71.024630</td>\n",
       "      <td>1.332391</td>\n",
       "      <td>1</td>\n",
       "    </tr>\n",
       "    <tr>\n",
       "      <th>4</th>\n",
       "      <td>NG_007082.2</td>\n",
       "      <td>86707</td>\n",
       "      <td>86748</td>\n",
       "      <td>TCCTTCTCCACGGCCTTGTATGGCGAGAGCGACCTGTGAGGC</td>\n",
       "      <td>88.59</td>\n",
       "      <td>GCCTCACAGGTCGCTCTCGCCATACAAGGCCGTGGAGAAGGA</td>\n",
       "      <td>GCCTCACAGGTCGCTCTCG</td>\n",
       "      <td>73.909610</td>\n",
       "      <td>CC</td>\n",
       "      <td>ATACAAGGCCGTGGAGAAGGA</td>\n",
       "      <td>72.335556</td>\n",
       "      <td>1.574054</td>\n",
       "      <td>1</td>\n",
       "    </tr>\n",
       "  </tbody>\n",
       "</table>\n",
       "</div>"
      ],
      "text/plain": [
       "    Annotation  Start    End                                 TargetSequence  \\\n",
       "0  NG_000006.1  26327  26368     CTGGGGTCCTTGAGTCGGACGGGCGTTTGTGCGTCTCCCGGC   \n",
       "1  NG_000006.1  41924  41968  AGTTCCTGAGCCACGTTATCTCGGCGCTGGTTTCCGAGTACCGCT   \n",
       "2  NG_007066.1   4920   4959       ACTTTGCACCAGTCCGAGGGAATTTGCGGTCGGTGACGCG   \n",
       "3  NG_007082.2  83837  83877      CTCCGGGGACATTACAAGCTGGTCGCCGTCATATTGGTAGC   \n",
       "4  NG_007082.2  86707  86748     TCCTTCTCCACGGCCTTGTATGGCGAGAGCGACCTGTGAGGC   \n",
       "\n",
       "      Tm                              ReverseComplement                Primer  \\\n",
       "0  91.22     GCCGGGAGACGCACAAACGCCCGTCCGACTCAAGGACCCCAG   GCCGGGAGACGCACAAACG   \n",
       "1  89.22  AGCGGTACTCGGAAACCAGCGCCGAGATAACGTGGCTCAGGAACT  AGCGGTACTCGGAAACCAGC   \n",
       "2  87.69       CGCGTCACCGACCGCAAATTCCCTCGGACTGGTGCAAAGT   CGCGTCACCGACCGCAAAT   \n",
       "3  83.78      GCTACCAATATGACGGCGACCAGCTTGTAATGTCCCCGGAG  GCTACCAATATGACGGCGAC   \n",
       "4  88.59     GCCTCACAGGTCGCTCTCGCCATACAAGGCCGTGGAGAAGGA   GCCTCACAGGTCGCTCTCG   \n",
       "\n",
       "   Primer Tm Spacer                  Padlock  Padlock Tm   DeltaTm  \\\n",
       "0  75.422692     CC    CGTCCGACTCAAGGACCCCAG   75.262572  0.160120   \n",
       "1  73.668260     GC  CGAGATAACGTGGCTCAGGAACT   72.453816  1.214443   \n",
       "2  75.143061      T     CCCTCGGACTGGTGCAAAGT   73.865102  1.277960   \n",
       "3  69.692239      C     AGCTTGTAATGTCCCCGGAG   71.024630  1.332391   \n",
       "4  73.909610     CC    ATACAAGGCCGTGGAGAAGGA   72.335556  1.574054   \n",
       "\n",
       "   source_index  \n",
       "0             1  \n",
       "1             1  \n",
       "2             1  \n",
       "3             1  \n",
       "4             1  "
      ]
     },
     "execution_count": 32,
     "metadata": {},
     "output_type": "execute_result"
    }
   ],
   "source": [
    "%%time\n",
    "# parse single file \n",
    "df = parse_picky_new(input_file, source_index)\n",
    "print(df.shape)\n",
    "df.head()"
   ]
  },
  {
   "cell_type": "markdown",
   "id": "cfde46f0-d72e-435d-af71-633ca6be5e77",
   "metadata": {},
   "source": [
    "## Multiple file "
   ]
  },
  {
   "cell_type": "code",
   "execution_count": 26,
   "id": "7b8b464a-1594-44c2-b8f0-76dbb929bbea",
   "metadata": {},
   "outputs": [
    {
     "name": "stdout",
     "output_type": "stream",
     "text": [
      "['input-example-1.picky', 'input-example-2.picky']\n"
     ]
    }
   ],
   "source": [
    "# set input\n",
    "input_path = './test-files/'\n",
    "files = sorted([ f for f in os.listdir(input_path) if '.picky' in f])\n",
    "print(files)"
   ]
  },
  {
   "cell_type": "code",
   "execution_count": 31,
   "id": "0c2ccd5c-98e1-430d-95f9-e848469d94d3",
   "metadata": {},
   "outputs": [
    {
     "name": "stdout",
     "output_type": "stream",
     "text": [
      "(2500, 13)\n",
      "CPU times: user 38.8 ms, sys: 104 ms, total: 143 ms\n",
      "Wall time: 4.36 s\n"
     ]
    },
    {
     "data": {
      "text/html": [
       "<div>\n",
       "<style scoped>\n",
       "    .dataframe tbody tr th:only-of-type {\n",
       "        vertical-align: middle;\n",
       "    }\n",
       "\n",
       "    .dataframe tbody tr th {\n",
       "        vertical-align: top;\n",
       "    }\n",
       "\n",
       "    .dataframe thead th {\n",
       "        text-align: right;\n",
       "    }\n",
       "</style>\n",
       "<table border=\"1\" class=\"dataframe\">\n",
       "  <thead>\n",
       "    <tr style=\"text-align: right;\">\n",
       "      <th></th>\n",
       "      <th>Annotation</th>\n",
       "      <th>Start</th>\n",
       "      <th>End</th>\n",
       "      <th>TargetSequence</th>\n",
       "      <th>Tm</th>\n",
       "      <th>ReverseComplement</th>\n",
       "      <th>Primer</th>\n",
       "      <th>Primer Tm</th>\n",
       "      <th>Spacer</th>\n",
       "      <th>Padlock</th>\n",
       "      <th>Padlock Tm</th>\n",
       "      <th>DeltaTm</th>\n",
       "      <th>source_index</th>\n",
       "    </tr>\n",
       "  </thead>\n",
       "  <tbody>\n",
       "    <tr>\n",
       "      <th>0</th>\n",
       "      <td>NG_000006.1</td>\n",
       "      <td>26327</td>\n",
       "      <td>26368</td>\n",
       "      <td>CTGGGGTCCTTGAGTCGGACGGGCGTTTGTGCGTCTCCCGGC</td>\n",
       "      <td>91.22</td>\n",
       "      <td>GCCGGGAGACGCACAAACGCCCGTCCGACTCAAGGACCCCAG</td>\n",
       "      <td>GCCGGGAGACGCACAAACG</td>\n",
       "      <td>75.422692</td>\n",
       "      <td>CC</td>\n",
       "      <td>CGTCCGACTCAAGGACCCCAG</td>\n",
       "      <td>75.262572</td>\n",
       "      <td>0.160120</td>\n",
       "      <td>1</td>\n",
       "    </tr>\n",
       "    <tr>\n",
       "      <th>1</th>\n",
       "      <td>NG_000006.1</td>\n",
       "      <td>41924</td>\n",
       "      <td>41968</td>\n",
       "      <td>AGTTCCTGAGCCACGTTATCTCGGCGCTGGTTTCCGAGTACCGCT</td>\n",
       "      <td>89.22</td>\n",
       "      <td>AGCGGTACTCGGAAACCAGCGCCGAGATAACGTGGCTCAGGAACT</td>\n",
       "      <td>AGCGGTACTCGGAAACCAGC</td>\n",
       "      <td>73.668260</td>\n",
       "      <td>GC</td>\n",
       "      <td>CGAGATAACGTGGCTCAGGAACT</td>\n",
       "      <td>72.453816</td>\n",
       "      <td>1.214443</td>\n",
       "      <td>1</td>\n",
       "    </tr>\n",
       "    <tr>\n",
       "      <th>2</th>\n",
       "      <td>NG_007066.1</td>\n",
       "      <td>4920</td>\n",
       "      <td>4959</td>\n",
       "      <td>ACTTTGCACCAGTCCGAGGGAATTTGCGGTCGGTGACGCG</td>\n",
       "      <td>87.69</td>\n",
       "      <td>CGCGTCACCGACCGCAAATTCCCTCGGACTGGTGCAAAGT</td>\n",
       "      <td>CGCGTCACCGACCGCAAAT</td>\n",
       "      <td>75.143061</td>\n",
       "      <td>T</td>\n",
       "      <td>CCCTCGGACTGGTGCAAAGT</td>\n",
       "      <td>73.865102</td>\n",
       "      <td>1.277960</td>\n",
       "      <td>1</td>\n",
       "    </tr>\n",
       "    <tr>\n",
       "      <th>3</th>\n",
       "      <td>NG_007082.2</td>\n",
       "      <td>83837</td>\n",
       "      <td>83877</td>\n",
       "      <td>CTCCGGGGACATTACAAGCTGGTCGCCGTCATATTGGTAGC</td>\n",
       "      <td>83.78</td>\n",
       "      <td>GCTACCAATATGACGGCGACCAGCTTGTAATGTCCCCGGAG</td>\n",
       "      <td>GCTACCAATATGACGGCGAC</td>\n",
       "      <td>69.692239</td>\n",
       "      <td>C</td>\n",
       "      <td>AGCTTGTAATGTCCCCGGAG</td>\n",
       "      <td>71.024630</td>\n",
       "      <td>1.332391</td>\n",
       "      <td>1</td>\n",
       "    </tr>\n",
       "    <tr>\n",
       "      <th>4</th>\n",
       "      <td>NG_007082.2</td>\n",
       "      <td>86707</td>\n",
       "      <td>86748</td>\n",
       "      <td>TCCTTCTCCACGGCCTTGTATGGCGAGAGCGACCTGTGAGGC</td>\n",
       "      <td>88.59</td>\n",
       "      <td>GCCTCACAGGTCGCTCTCGCCATACAAGGCCGTGGAGAAGGA</td>\n",
       "      <td>GCCTCACAGGTCGCTCTCG</td>\n",
       "      <td>73.909610</td>\n",
       "      <td>CC</td>\n",
       "      <td>ATACAAGGCCGTGGAGAAGGA</td>\n",
       "      <td>72.335556</td>\n",
       "      <td>1.574054</td>\n",
       "      <td>1</td>\n",
       "    </tr>\n",
       "  </tbody>\n",
       "</table>\n",
       "</div>"
      ],
      "text/plain": [
       "    Annotation  Start    End                                 TargetSequence  \\\n",
       "0  NG_000006.1  26327  26368     CTGGGGTCCTTGAGTCGGACGGGCGTTTGTGCGTCTCCCGGC   \n",
       "1  NG_000006.1  41924  41968  AGTTCCTGAGCCACGTTATCTCGGCGCTGGTTTCCGAGTACCGCT   \n",
       "2  NG_007066.1   4920   4959       ACTTTGCACCAGTCCGAGGGAATTTGCGGTCGGTGACGCG   \n",
       "3  NG_007082.2  83837  83877      CTCCGGGGACATTACAAGCTGGTCGCCGTCATATTGGTAGC   \n",
       "4  NG_007082.2  86707  86748     TCCTTCTCCACGGCCTTGTATGGCGAGAGCGACCTGTGAGGC   \n",
       "\n",
       "      Tm                              ReverseComplement                Primer  \\\n",
       "0  91.22     GCCGGGAGACGCACAAACGCCCGTCCGACTCAAGGACCCCAG   GCCGGGAGACGCACAAACG   \n",
       "1  89.22  AGCGGTACTCGGAAACCAGCGCCGAGATAACGTGGCTCAGGAACT  AGCGGTACTCGGAAACCAGC   \n",
       "2  87.69       CGCGTCACCGACCGCAAATTCCCTCGGACTGGTGCAAAGT   CGCGTCACCGACCGCAAAT   \n",
       "3  83.78      GCTACCAATATGACGGCGACCAGCTTGTAATGTCCCCGGAG  GCTACCAATATGACGGCGAC   \n",
       "4  88.59     GCCTCACAGGTCGCTCTCGCCATACAAGGCCGTGGAGAAGGA   GCCTCACAGGTCGCTCTCG   \n",
       "\n",
       "   Primer Tm Spacer                  Padlock  Padlock Tm   DeltaTm  \\\n",
       "0  75.422692     CC    CGTCCGACTCAAGGACCCCAG   75.262572  0.160120   \n",
       "1  73.668260     GC  CGAGATAACGTGGCTCAGGAACT   72.453816  1.214443   \n",
       "2  75.143061      T     CCCTCGGACTGGTGCAAAGT   73.865102  1.277960   \n",
       "3  69.692239      C     AGCTTGTAATGTCCCCGGAG   71.024630  1.332391   \n",
       "4  73.909610     CC    ATACAAGGCCGTGGAGAAGGA   72.335556  1.574054   \n",
       "\n",
       "   source_index  \n",
       "0             1  \n",
       "1             1  \n",
       "2             1  \n",
       "3             1  \n",
       "4             1  "
      ]
     },
     "execution_count": 31,
     "metadata": {},
     "output_type": "execute_result"
    }
   ],
   "source": [
    "%%time\n",
    "# setup multiple proessing for parsing the files \n",
    "input_file_1 = os.path.join(input_path, files[0])\n",
    "input_file_2 = os.path.join(input_path, files[1])\n",
    "\n",
    "p = [(input_file_1, 1), (input_file_2, 2)] # (input_file_path, source_index)\n",
    "pool = mp.Pool(processes = (mp.cpu_count()))\n",
    "results = pool.starmap(parse_picky_new, p)\n",
    "pool.close()\n",
    "pool.join()\n",
    "\n",
    "df_combined = pd.concat(results)\n",
    "print(df_combined.shape)\n",
    "df_combined.head()"
   ]
  },
  {
   "cell_type": "markdown",
   "id": "2613158b-1299-48a7-94d3-09a6808d6ad3",
   "metadata": {},
   "source": [
    "## Filtering"
   ]
  },
  {
   "cell_type": "code",
   "execution_count": 31,
   "id": "d6fef7b8-7c65-44e0-a57d-e0bb9a33280b",
   "metadata": {},
   "outputs": [],
   "source": [
    "import os\n",
    "import numpy as np\n",
    "import pandas as pd\n",
    "import seaborn as sns\n",
    "from Bio.Seq import Seq\n",
    "from Bio.SeqRecord import SeqRecord\n",
    "import Bio.SeqIO"
   ]
  },
  {
   "cell_type": "code",
   "execution_count": 53,
   "id": "23151252-7c92-4287-9733-101176603493",
   "metadata": {},
   "outputs": [
    {
     "data": {
      "text/html": [
       "<div>\n",
       "<style scoped>\n",
       "    .dataframe tbody tr th:only-of-type {\n",
       "        vertical-align: middle;\n",
       "    }\n",
       "\n",
       "    .dataframe tbody tr th {\n",
       "        vertical-align: top;\n",
       "    }\n",
       "\n",
       "    .dataframe thead th {\n",
       "        text-align: right;\n",
       "    }\n",
       "</style>\n",
       "<table border=\"1\" class=\"dataframe\">\n",
       "  <thead>\n",
       "    <tr style=\"text-align: right;\">\n",
       "      <th></th>\n",
       "      <th>Annotation</th>\n",
       "      <th>Start</th>\n",
       "      <th>End</th>\n",
       "      <th>TargetSequence</th>\n",
       "      <th>Tm</th>\n",
       "      <th>ReverseComplement</th>\n",
       "      <th>Primer</th>\n",
       "      <th>Primer Tm</th>\n",
       "      <th>Spacer</th>\n",
       "      <th>Padlock</th>\n",
       "      <th>Padlock Tm</th>\n",
       "      <th>DeltaTm</th>\n",
       "      <th>source_index</th>\n",
       "    </tr>\n",
       "  </thead>\n",
       "  <tbody>\n",
       "    <tr>\n",
       "      <th>0</th>\n",
       "      <td>NG_005895_TSC2_intron_15</td>\n",
       "      <td>74</td>\n",
       "      <td>113</td>\n",
       "      <td>TGTCCTCCTCTTCGAGTGACCGGATGGCTGTGTCCGTAGG</td>\n",
       "      <td>85.18</td>\n",
       "      <td>CCTACGGACACAGCCATCCGGTCACTCGAAGAGGAGGACA</td>\n",
       "      <td>CCTACGGACACAGCCATCC</td>\n",
       "      <td>71.508684</td>\n",
       "      <td>G</td>\n",
       "      <td>GTCACTCGAAGAGGAGGACA</td>\n",
       "      <td>69.851136</td>\n",
       "      <td>1.657548</td>\n",
       "      <td>1</td>\n",
       "    </tr>\n",
       "    <tr>\n",
       "      <th>1</th>\n",
       "      <td>NG_005895_TSC2_intron_17</td>\n",
       "      <td>190</td>\n",
       "      <td>229</td>\n",
       "      <td>ATCTGTGGCTTGTCGCTCTAAGCCGCACGGTGACATGGGT</td>\n",
       "      <td>87.71</td>\n",
       "      <td>ACCCATGTCACCGTGCGGCTTAGAGCGACAAGCCACAGAT</td>\n",
       "      <td>ACCCATGTCACCGTGCGGC</td>\n",
       "      <td>77.300836</td>\n",
       "      <td>T</td>\n",
       "      <td>TAGAGCGACAAGCCACAGAT</td>\n",
       "      <td>70.310287</td>\n",
       "      <td>6.990549</td>\n",
       "      <td>1</td>\n",
       "    </tr>\n",
       "    <tr>\n",
       "      <th>2</th>\n",
       "      <td>NG_005895_TSC2_intron_21</td>\n",
       "      <td>999</td>\n",
       "      <td>1041</td>\n",
       "      <td>TTGGCCTGTGGGATCGTGTCGGAATGCAACTGACCGGAGCAGT</td>\n",
       "      <td>89.09</td>\n",
       "      <td>ACTGCTCCGGTCAGTTGCATTCCGACACGATCCCACAGGCCAA</td>\n",
       "      <td>ACTGCTCCGGTCAGTTGCATT</td>\n",
       "      <td>73.709604</td>\n",
       "      <td>CC</td>\n",
       "      <td>GACACGATCCCACAGGCCAA</td>\n",
       "      <td>73.887579</td>\n",
       "      <td>0.177975</td>\n",
       "      <td>1</td>\n",
       "    </tr>\n",
       "    <tr>\n",
       "      <th>3</th>\n",
       "      <td>NG_005895_TSC2_intron_22</td>\n",
       "      <td>1188</td>\n",
       "      <td>1227</td>\n",
       "      <td>CACACAAATGGTAGGCGACAGCTCGAATTGGCCCAGAAGC</td>\n",
       "      <td>84.81</td>\n",
       "      <td>GCTTCTGGGCCAATTCGAGCTGTCGCCTACCATTTGTGTG</td>\n",
       "      <td>GCTTCTGGGCCAATTCGAG</td>\n",
       "      <td>70.407348</td>\n",
       "      <td>C</td>\n",
       "      <td>TGTCGCCTACCATTTGTGTG</td>\n",
       "      <td>69.678811</td>\n",
       "      <td>0.728537</td>\n",
       "      <td>1</td>\n",
       "    </tr>\n",
       "    <tr>\n",
       "      <th>4</th>\n",
       "      <td>NG_005895_TSC2_intron_3</td>\n",
       "      <td>2651</td>\n",
       "      <td>2690</td>\n",
       "      <td>GGAAGCTCTGAGCCGTTCCCTGTACGAAGCCTGTGGTCAT</td>\n",
       "      <td>85.57</td>\n",
       "      <td>ATGACCACAGGCTTCGTACAGGGAACGGCTCAGAGCTTCC</td>\n",
       "      <td>ATGACCACAGGCTTCGTACA</td>\n",
       "      <td>70.574600</td>\n",
       "      <td>G</td>\n",
       "      <td>GGAACGGCTCAGAGCTTCC</td>\n",
       "      <td>71.966588</td>\n",
       "      <td>1.391988</td>\n",
       "      <td>1</td>\n",
       "    </tr>\n",
       "  </tbody>\n",
       "</table>\n",
       "</div>"
      ],
      "text/plain": [
       "                 Annotation  Start   End  \\\n",
       "0  NG_005895_TSC2_intron_15     74   113   \n",
       "1  NG_005895_TSC2_intron_17    190   229   \n",
       "2  NG_005895_TSC2_intron_21    999  1041   \n",
       "3  NG_005895_TSC2_intron_22   1188  1227   \n",
       "4   NG_005895_TSC2_intron_3   2651  2690   \n",
       "\n",
       "                                TargetSequence     Tm  \\\n",
       "0     TGTCCTCCTCTTCGAGTGACCGGATGGCTGTGTCCGTAGG  85.18   \n",
       "1     ATCTGTGGCTTGTCGCTCTAAGCCGCACGGTGACATGGGT  87.71   \n",
       "2  TTGGCCTGTGGGATCGTGTCGGAATGCAACTGACCGGAGCAGT  89.09   \n",
       "3     CACACAAATGGTAGGCGACAGCTCGAATTGGCCCAGAAGC  84.81   \n",
       "4     GGAAGCTCTGAGCCGTTCCCTGTACGAAGCCTGTGGTCAT  85.57   \n",
       "\n",
       "                             ReverseComplement                 Primer  \\\n",
       "0     CCTACGGACACAGCCATCCGGTCACTCGAAGAGGAGGACA    CCTACGGACACAGCCATCC   \n",
       "1     ACCCATGTCACCGTGCGGCTTAGAGCGACAAGCCACAGAT    ACCCATGTCACCGTGCGGC   \n",
       "2  ACTGCTCCGGTCAGTTGCATTCCGACACGATCCCACAGGCCAA  ACTGCTCCGGTCAGTTGCATT   \n",
       "3     GCTTCTGGGCCAATTCGAGCTGTCGCCTACCATTTGTGTG    GCTTCTGGGCCAATTCGAG   \n",
       "4     ATGACCACAGGCTTCGTACAGGGAACGGCTCAGAGCTTCC   ATGACCACAGGCTTCGTACA   \n",
       "\n",
       "   Primer Tm Spacer               Padlock  Padlock Tm   DeltaTm  source_index  \n",
       "0  71.508684      G  GTCACTCGAAGAGGAGGACA   69.851136  1.657548             1  \n",
       "1  77.300836      T  TAGAGCGACAAGCCACAGAT   70.310287  6.990549             1  \n",
       "2  73.709604     CC  GACACGATCCCACAGGCCAA   73.887579  0.177975             1  \n",
       "3  70.407348      C  TGTCGCCTACCATTTGTGTG   69.678811  0.728537             1  \n",
       "4  70.574600      G   GGAACGGCTCAGAGCTTCC   71.966588  1.391988             1  "
      ]
     },
     "execution_count": 53,
     "metadata": {},
     "output_type": "execute_result"
    }
   ],
   "source": [
    "# read parsed files \n",
    "input_path = 'Z:/Documents/probe/Human_Intron_Probe/output/'\n",
    "input_df1 = pd.read_csv(os.path.join(input_path, 'parsed_results.csv'), index_col=0)\n",
    "input_df1.head()"
   ]
  },
  {
   "cell_type": "code",
   "execution_count": 54,
   "id": "d60214c8-90e5-4150-a007-6e4d3503e56c",
   "metadata": {},
   "outputs": [
    {
     "name": "stderr",
     "output_type": "stream",
     "text": [
      "C:\\Users\\jiahao\\AppData\\Local\\Temp\\ipykernel_393504\\2698922373.py:39: FutureWarning: In a future version of pandas all arguments of DataFrame.drop except for the argument 'labels' will be keyword-only.\n",
      "  filtered_df1 = filtered_df1.drop('temp_index', 1)\n"
     ]
    },
    {
     "name": "stdout",
     "output_type": "stream",
     "text": [
      "\n",
      "Number of records before filtering: 639577\n",
      "Number of genes before filtering: 7862\n",
      "\n",
      "Number of records removed due to having same target sequence: 229376\n",
      "Number of records removed due to having continuous single nucleotide sequence: 58091\n",
      "\n",
      "Number of records after filtering: 352110\n",
      "Number of genes left after filtering: 7831\n",
      "\n"
     ]
    },
    {
     "data": {
      "text/plain": [
       "<AxesSubplot:ylabel='Count'>"
      ]
     },
     "execution_count": 54,
     "metadata": {},
     "output_type": "execute_result"
    },
    {
     "data": {
      "image/png": "[encoded data removed]",
      "text/plain": [
       "<Figure size 432x288 with 1 Axes>"
      ]
     },
     "metadata": {
      "needs_background": "light"
     },
     "output_type": "display_data"
    }
   ],
   "source": [
    "# edit annotations \n",
    "id_list = []\n",
    "gene_list = []\n",
    "intron_list = []\n",
    "\n",
    "for current_record in input_df1['Annotation'].to_list():\n",
    "    fields = current_record.split('_')\n",
    "    id_list.append(fields[0] + '_' + fields[1])\n",
    "    gene_list.append(fields[2])\n",
    "    intron_list.append(fields[3] + '_' + fields[4])\n",
    "    \n",
    "input_df1['Id'] = id_list\n",
    "input_df1['Gene'] = gene_list\n",
    "input_df1['Intron'] = intron_list\n",
    "\n",
    "# filtering \n",
    "n_records_org = input_df1.shape[0]\n",
    "n_genes_org = input_df1['Gene'].nunique()\n",
    "\n",
    "# remove records with same target sequence \n",
    "filtered_df1 = input_df1.drop_duplicates(['TargetSequence'])\n",
    "n_records_removed_same_ts = n_records_org - filtered_df1.shape[0]\n",
    "\n",
    "# remove records with continuous single nucleotide sequence\n",
    "sns_drop = ['AAAAA', 'TTTTT', 'GGGGG', 'CCCCC']\n",
    "filtered_df1 = filtered_df1[~filtered_df1['ReverseComplement'].str.contains('|'.join(sns_drop))]\n",
    "n_records_removed_csns = n_records_org - n_records_removed_same_ts - filtered_df1.shape[0]\n",
    "\n",
    "ordered_col = ['Gene', 'Id', 'Intron', 'Annotation',\n",
    "              'Start', 'End', 'TargetSequence', 'Tm',\n",
    "               'ReverseComplement', 'Primer', 'Primer Tm', 'Spacer', 'Padlock',\n",
    "               'Padlock Tm', 'DeltaTm', 'source_index']\n",
    "filtered_df1 = filtered_df1[ordered_col]\n",
    "filtered_df1 = filtered_df1.sort_values(by=['Gene', 'Id', 'Intron'])\n",
    "\n",
    "filtered_df1 = filtered_df1.reset_index(drop = True)\n",
    "filtered_df1['temp_index'] = filtered_df1.index.astype(str)\n",
    "filtered_df1['fasta_id'] = filtered_df1[['Annotation', 'temp_index']].apply(lambda x: '_'.join(x), axis=1)\n",
    "filtered_df1 = filtered_df1.drop('temp_index', 1)\n",
    "\n",
    "# print log\n",
    "print(\n",
    "f'''\n",
    "Number of records before filtering: {n_records_org}\n",
    "Number of genes before filtering: {n_genes_org}\n",
    "\n",
    "Number of records removed due to having same target sequence: {n_records_removed_same_ts}\n",
    "Number of records removed due to having continuous single nucleotide sequence: {n_records_removed_csns}\n",
    "\n",
    "Number of records after filtering: {filtered_df1.shape[0]}\n",
    "Number of genes left after filtering: {filtered_df1['Gene'].nunique()}\n",
    "''')\n",
    "\n",
    "# plot distribution \n",
    "sns.histplot(filtered_df1['Gene'].value_counts().to_list())"
   ]
  },
  {
   "cell_type": "code",
   "execution_count": 55,
   "id": "0f740259-a756-4d97-be0a-6c6c0c4240f0",
   "metadata": {},
   "outputs": [],
   "source": [
    "# output files \n",
    "\n",
    "def make_seq_record(seq, name):\n",
    "    seq_record = SeqRecord(Seq(seq), id = name, description = '', letter_annotations = {\"phred_quality\":[40] * len(seq)})\n",
    "    return seq_record\n",
    "\n",
    "seq_records = map(make_seq_record, filtered_df1.TargetSequence, filtered_df1.fasta_id)\n",
    "\n",
    "# output FASTA\n",
    "with open(os.path.join(input_path, 'parsed_probes.fa'), 'w') as output_file_fa:   \n",
    "    Bio.SeqIO.write(seq_records, output_file_fa, 'fasta')\n",
    "\n",
    "# output FASTQ w/ fake quality score\n",
    "with open(os.path.join(input_path, 'parsed_probes.fq'), 'w') as output_file_fq:   \n",
    "    Bio.SeqIO.write(seq_records, output_file_fq, 'fastq')\n",
    "\n",
    "# output the matrix\n",
    "filtered_df1.to_csv(os.path.join(input_path, 'filtered_records.csv'))\n",
    "\n",
    "# output log\n",
    "with open(os.path.join(input_path, 'log_filtering.txt'), 'w') as output_file:   \n",
    "    print(\n",
    "f'''Number of records before filtering: {n_records_org}\n",
    "Number of genes before filtering: {n_genes_org}\n",
    "\n",
    "Number of records removed due to having same target sequence: {n_records_removed_same_ts}\n",
    "Number of records removed due to having continuous single nucleotide sequence: {n_records_removed_csns}\n",
    "\n",
    "Number of records after filtering: {filtered_df1.shape[0]}\n",
    "Number of genes left after filtering: {filtered_df1['Gene'].nunique()}\n",
    "''', file=output_file)"
   ]
  },
  {
   "cell_type": "markdown",
   "id": "b4226551-c1c6-400f-83d5-e165f721eed9",
   "metadata": {},
   "source": [
    "## Filtering based on bbmap (dedupe.sh)"
   ]
  },
  {
   "cell_type": "code",
   "execution_count": 33,
   "id": "367ea004-8d75-453a-b6d0-cb921ab739b1",
   "metadata": {},
   "outputs": [],
   "source": [
    "start_time = time.time()\n",
    "\n",
    "input_path = '/Users/jiahao/Desktop/Broad/Data/Probe/intron_probe/human'\n",
    "input_dir = os.path.join(input_path, 'clust/')\n",
    "files = sorted([ f for f in os.listdir(input_dir) if 'cluster' in f ])\n",
    "files_path = map(lambda x: input_dir + x, files)\n",
    "\n",
    "table_path = os.path.join(input_path, 'filtered_records.csv')\n",
    "df = pd.read_csv(table_path, index_col=0)"
   ]
  },
  {
   "cell_type": "code",
   "execution_count": 34,
   "id": "2402d143-e8cb-4894-807a-b52f90ea830e",
   "metadata": {},
   "outputs": [],
   "source": [
    "dup_file = os.path.join(input_path, 'dup.fa')\n",
    "dup_index = parse_dup(dup_file)\n",
    "\n",
    "pool = mp.Pool(processes = (mp.cpu_count()))\n",
    "results = pool.map(parse_cluster, files_path)\n",
    "pool.close()\n",
    "pool.join()\n",
    "\n",
    "merged = list(itertools.chain(*results)) + dup_index\n",
    "\n",
    "df = df.drop(merged).reset_index(drop = True)"
   ]
  },
  {
   "cell_type": "code",
   "execution_count": 35,
   "id": "29c7bfbd-cc4a-479f-9356-d05d8c666f98",
   "metadata": {},
   "outputs": [
    {
     "name": "stdout",
     "output_type": "stream",
     "text": [
      "After dedupe.sh\n",
      "Number of records remained: 332312\n",
      "Number of genes left after filtering: 7830\n"
     ]
    }
   ],
   "source": [
    "print(f'''After dedupe.sh\\nNumber of records remained: {df.shape[0]}\n",
    "Number of genes left after filtering: {df['Gene'].nunique()}''')"
   ]
  },
  {
   "cell_type": "code",
   "execution_count": 36,
   "id": "6f42c97a-0739-48cd-82c5-dc4ac979bd9d",
   "metadata": {},
   "outputs": [
    {
     "data": {
      "text/plain": [
       "<AxesSubplot:ylabel='Count'>"
      ]
     },
     "execution_count": 36,
     "metadata": {},
     "output_type": "execute_result"
    },
    {
     "data": {
      "image/png": "[encoded data removed]",
      "text/plain": [
       "<Figure size 432x288 with 1 Axes>"
      ]
     },
     "metadata": {
      "needs_background": "light"
     },
     "output_type": "display_data"
    }
   ],
   "source": [
    "# plot distribution \n",
    "sns.histplot(df['Gene'].value_counts().to_list())"
   ]
  },
  {
   "cell_type": "code",
   "execution_count": 21,
   "id": "297a7392-ce11-4a91-ba2d-f63d038e63a4",
   "metadata": {},
   "outputs": [],
   "source": [
    "# output the matrix\n",
    "df.to_csv(os.path.join(input_path, 'final_records.csv'))"
   ]
  },
  {
   "cell_type": "code",
   "execution_count": null,
   "id": "59f597a5-dbaa-4776-bbb8-3dbadc48c486",
   "metadata": {},
   "outputs": [],
   "source": []
  }
 ],
 "metadata": {
  "kernelspec": {
   "display_name": "Python 3 (ipykernel)",
   "language": "python",
   "name": "python3"
  },
  "language_info": {
   "codemirror_mode": {
    "name": "ipython",
    "version": 3
   },
   "file_extension": ".py",
   "mimetype": "text/x-python",
   "name": "python",
   "nbconvert_exporter": "python",
   "pygments_lexer": "ipython3",
   "version": "3.8.13"
  }
 },
 "nbformat": 4,
 "nbformat_minor": 5
}
