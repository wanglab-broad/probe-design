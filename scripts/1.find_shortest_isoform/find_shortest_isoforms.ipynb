{
 "cells": [
  {
   "cell_type": "markdown",
   "metadata": {},
   "source": [
    "# Find the shortest isoforms "
   ]
  },
  {
   "cell_type": "code",
   "execution_count": 11,
   "metadata": {},
   "outputs": [],
   "source": [
    "import os \n",
    "import pandas as pd\n",
    "from Bio import SeqIO\n",
    "from tqdm.notebook import tqdm"
   ]
  },
  {
   "cell_type": "code",
   "execution_count": 12,
   "metadata": {},
   "outputs": [],
   "source": [
    "# input file\n",
    "rna_file = '/home/unix/jiahao/wanglab/Documents/probe/Drosophila/dmel-all-transcript-r6.31.fasta'\n",
    "cds_file = '/home/unix/jiahao/wanglab/Documents/probe/Drosophila/dmel-all-CDS-r6.31.fasta'"
   ]
  },
  {
   "cell_type": "code",
   "execution_count": 13,
   "metadata": {},
   "outputs": [],
   "source": [
    "def parse_description(description, seq):\n",
    "    import re\n",
    "    pattern = r\"(\\w+)=([^;]+);\"\n",
    "    matches = re.findall(pattern, description)\n",
    "    df = pd.DataFrame(matches).T\n",
    "    header = df.iloc[0].to_list()\n",
    "    df = df[1:]\n",
    "    df.columns = header\n",
    "    df['seq'] = seq\n",
    "    return df\n"
   ]
  },
  {
   "cell_type": "code",
   "execution_count": 14,
   "metadata": {},
   "outputs": [
    {
     "data": {
      "application/vnd.jupyter.widget-view+json": {
       "model_id": "ebe22f08f09e47b1ba507378ff2aab8d",
       "version_major": 2,
       "version_minor": 0
      },
      "text/plain": [
       "0it [00:00, ?it/s]"
      ]
     },
     "metadata": {},
     "output_type": "display_data"
    }
   ],
   "source": [
    "# parse fasta \n",
    "selected_features = ['ID', 'name', 'dbxref', 'type', 'length', 'seq']\n",
    "rna_df = pd.DataFrame(columns=selected_features)\n",
    "rna_sequences = SeqIO.parse(open(rna_file),'fasta')\n",
    "for fasta in tqdm(rna_sequences):\n",
    "    current_df = parse_description(fasta.description, str(fasta.seq))\n",
    "    rna_df = pd.concat([rna_df, current_df.loc[:, selected_features]])\n",
    "    "
   ]
  },
  {
   "cell_type": "code",
   "execution_count": 15,
   "metadata": {},
   "outputs": [
    {
     "name": "stdout",
     "output_type": "stream",
     "text": [
      "30602\n"
     ]
    },
    {
     "data": {
      "text/html": [
       "<div>\n",
       "<style scoped>\n",
       "    .dataframe tbody tr th:only-of-type {\n",
       "        vertical-align: middle;\n",
       "    }\n",
       "\n",
       "    .dataframe tbody tr th {\n",
       "        vertical-align: top;\n",
       "    }\n",
       "\n",
       "    .dataframe thead th {\n",
       "        text-align: right;\n",
       "    }\n",
       "</style>\n",
       "<table border=\"1\" class=\"dataframe\">\n",
       "  <thead>\n",
       "    <tr style=\"text-align: right;\">\n",
       "      <th></th>\n",
       "      <th>ID</th>\n",
       "      <th>name</th>\n",
       "      <th>dbxref</th>\n",
       "      <th>type</th>\n",
       "      <th>length</th>\n",
       "      <th>seq</th>\n",
       "    </tr>\n",
       "  </thead>\n",
       "  <tbody>\n",
       "    <tr>\n",
       "      <th>1</th>\n",
       "      <td>FBtr0070000</td>\n",
       "      <td>Nep3-RA</td>\n",
       "      <td>FlyBase:FBtr0070000,FlyBase_Annotation_IDs:CG9...</td>\n",
       "      <td>mRNA</td>\n",
       "      <td>3537</td>\n",
       "      <td>AGAAGTACCACCCCACCACACCACACCACTTCCAAACAGTCCGATT...</td>\n",
       "    </tr>\n",
       "    <tr>\n",
       "      <th>1</th>\n",
       "      <td>FBtr0307554</td>\n",
       "      <td>Nep3-RB</td>\n",
       "      <td>REFSEQ:NM_001258846,FlyBase:FBtr0307554,FlyBas...</td>\n",
       "      <td>mRNA</td>\n",
       "      <td>3546</td>\n",
       "      <td>AGTGCCTTGCGAGCGGTCATGGGCTAAGCACAGATAGTATCGTTGC...</td>\n",
       "    </tr>\n",
       "    <tr>\n",
       "      <th>1</th>\n",
       "      <td>FBtr0307555</td>\n",
       "      <td>Nep3-RC</td>\n",
       "      <td>REFSEQ:NM_001258847,REFSEQ:NM_001258847,FlyBas...</td>\n",
       "      <td>mRNA</td>\n",
       "      <td>4528</td>\n",
       "      <td>TAGTTCGAGTGCGATTACCGCTGCTGCTGGTGCTGGAGCTGGCTGT...</td>\n",
       "    </tr>\n",
       "    <tr>\n",
       "      <th>1</th>\n",
       "      <td>FBtr0070002</td>\n",
       "      <td>CG9570-RA</td>\n",
       "      <td>FlyBase:FBtr0070002,FlyBase_Annotation_IDs:CG9...</td>\n",
       "      <td>mRNA</td>\n",
       "      <td>1226</td>\n",
       "      <td>CTTACATAAGCAAATCACAACGATTCGTTGAAGCTAGCACACACAC...</td>\n",
       "    </tr>\n",
       "    <tr>\n",
       "      <th>1</th>\n",
       "      <td>FBtr0070003</td>\n",
       "      <td>Or19b-RA</td>\n",
       "      <td>FlyBase:FBtr0070003,FlyBase_Annotation_IDs:CG3...</td>\n",
       "      <td>mRNA</td>\n",
       "      <td>1164</td>\n",
       "      <td>ATGGACATATCGAAGGTGGATTCAACGAGGGCTCTGGTTAACCACT...</td>\n",
       "    </tr>\n",
       "    <tr>\n",
       "      <th>...</th>\n",
       "      <td>...</td>\n",
       "      <td>...</td>\n",
       "      <td>...</td>\n",
       "      <td>...</td>\n",
       "      <td>...</td>\n",
       "      <td>...</td>\n",
       "    </tr>\n",
       "    <tr>\n",
       "      <th>1</th>\n",
       "      <td>FBtr0445832</td>\n",
       "      <td>CG13950-RB</td>\n",
       "      <td>FlyBase:FBtr0445832,FlyBase_Annotation_IDs:CG1...</td>\n",
       "      <td>mRNA</td>\n",
       "      <td>1185</td>\n",
       "      <td>CGAGGAAAGGCGACGGATGGCGAATCTATTAGCATAAGGGCGCATA...</td>\n",
       "    </tr>\n",
       "    <tr>\n",
       "      <th>1</th>\n",
       "      <td>FBtr0078023</td>\n",
       "      <td>ninaA-RA</td>\n",
       "      <td>FlyBase:FBtr0078023,FlyBase_Annotation_IDs:CG3...</td>\n",
       "      <td>mRNA</td>\n",
       "      <td>871</td>\n",
       "      <td>CACAGTCCAGTCTTCGTTTCAGTTACGTGTATTTCATCAGCGCGTT...</td>\n",
       "    </tr>\n",
       "    <tr>\n",
       "      <th>1</th>\n",
       "      <td>FBtr0078025</td>\n",
       "      <td>Lsp1beta-RA</td>\n",
       "      <td>FlyBase:FBtr0078025,FlyBase_Annotation_IDs:CG4...</td>\n",
       "      <td>mRNA</td>\n",
       "      <td>2605</td>\n",
       "      <td>GGCAACAGTCTTTAGGCATTGGATCCACTGGGTGCATCTGATCCGG...</td>\n",
       "    </tr>\n",
       "    <tr>\n",
       "      <th>1</th>\n",
       "      <td>FBtr0345738</td>\n",
       "      <td>Lsp1beta-RB</td>\n",
       "      <td>FlyBase:FBtr0345738,FlyBase_Annotation_IDs:CG4...</td>\n",
       "      <td>mRNA</td>\n",
       "      <td>2749</td>\n",
       "      <td>ACAGATGGCGCGATCGCAGCACCTGAGATACACCCAGTGACCCCCA...</td>\n",
       "    </tr>\n",
       "    <tr>\n",
       "      <th>1</th>\n",
       "      <td>FBtr0336969</td>\n",
       "      <td>GluRIIC-RD</td>\n",
       "      <td>REFSEQ:NM_134713,FlyBase:FBtr0336969,FlyBase_A...</td>\n",
       "      <td>mRNA</td>\n",
       "      <td>3004</td>\n",
       "      <td>TCCCAGTTGCCATGGAATCGCCAGCCCGTGTGCTCGCATGAAAAAA...</td>\n",
       "    </tr>\n",
       "  </tbody>\n",
       "</table>\n",
       "<p>30602 rows × 6 columns</p>\n",
       "</div>"
      ],
      "text/plain": [
       "             ID         name  \\\n",
       "1   FBtr0070000      Nep3-RA   \n",
       "1   FBtr0307554      Nep3-RB   \n",
       "1   FBtr0307555      Nep3-RC   \n",
       "1   FBtr0070002    CG9570-RA   \n",
       "1   FBtr0070003     Or19b-RA   \n",
       "..          ...          ...   \n",
       "1   FBtr0445832   CG13950-RB   \n",
       "1   FBtr0078023     ninaA-RA   \n",
       "1   FBtr0078025  Lsp1beta-RA   \n",
       "1   FBtr0345738  Lsp1beta-RB   \n",
       "1   FBtr0336969   GluRIIC-RD   \n",
       "\n",
       "                                               dbxref  type length  \\\n",
       "1   FlyBase:FBtr0070000,FlyBase_Annotation_IDs:CG9...  mRNA   3537   \n",
       "1   REFSEQ:NM_001258846,FlyBase:FBtr0307554,FlyBas...  mRNA   3546   \n",
       "1   REFSEQ:NM_001258847,REFSEQ:NM_001258847,FlyBas...  mRNA   4528   \n",
       "1   FlyBase:FBtr0070002,FlyBase_Annotation_IDs:CG9...  mRNA   1226   \n",
       "1   FlyBase:FBtr0070003,FlyBase_Annotation_IDs:CG3...  mRNA   1164   \n",
       "..                                                ...   ...    ...   \n",
       "1   FlyBase:FBtr0445832,FlyBase_Annotation_IDs:CG1...  mRNA   1185   \n",
       "1   FlyBase:FBtr0078023,FlyBase_Annotation_IDs:CG3...  mRNA    871   \n",
       "1   FlyBase:FBtr0078025,FlyBase_Annotation_IDs:CG4...  mRNA   2605   \n",
       "1   FlyBase:FBtr0345738,FlyBase_Annotation_IDs:CG4...  mRNA   2749   \n",
       "1   REFSEQ:NM_134713,FlyBase:FBtr0336969,FlyBase_A...  mRNA   3004   \n",
       "\n",
       "                                                  seq  \n",
       "1   AGAAGTACCACCCCACCACACCACACCACTTCCAAACAGTCCGATT...  \n",
       "1   AGTGCCTTGCGAGCGGTCATGGGCTAAGCACAGATAGTATCGTTGC...  \n",
       "1   TAGTTCGAGTGCGATTACCGCTGCTGCTGGTGCTGGAGCTGGCTGT...  \n",
       "1   CTTACATAAGCAAATCACAACGATTCGTTGAAGCTAGCACACACAC...  \n",
       "1   ATGGACATATCGAAGGTGGATTCAACGAGGGCTCTGGTTAACCACT...  \n",
       "..                                                ...  \n",
       "1   CGAGGAAAGGCGACGGATGGCGAATCTATTAGCATAAGGGCGCATA...  \n",
       "1   CACAGTCCAGTCTTCGTTTCAGTTACGTGTATTTCATCAGCGCGTT...  \n",
       "1   GGCAACAGTCTTTAGGCATTGGATCCACTGGGTGCATCTGATCCGG...  \n",
       "1   ACAGATGGCGCGATCGCAGCACCTGAGATACACCCAGTGACCCCCA...  \n",
       "1   TCCCAGTTGCCATGGAATCGCCAGCCCGTGTGCTCGCATGAAAAAA...  \n",
       "\n",
       "[30602 rows x 6 columns]"
      ]
     },
     "execution_count": 15,
     "metadata": {},
     "output_type": "execute_result"
    }
   ],
   "source": [
    "print(rna_df['name'].nunique())\n",
    "rna_df"
   ]
  },
  {
   "cell_type": "code",
   "execution_count": 16,
   "metadata": {},
   "outputs": [
    {
     "data": {
      "application/vnd.jupyter.widget-view+json": {
       "model_id": "1377a0323ab9411381672cc8fc9ff7c0",
       "version_major": 2,
       "version_minor": 0
      },
      "text/plain": [
       "0it [00:00, ?it/s]"
      ]
     },
     "metadata": {},
     "output_type": "display_data"
    }
   ],
   "source": [
    "# parse fasta \n",
    "selected_features = ['name', 'dbxref', 'type', 'length', 'seq']\n",
    "cds_df = pd.DataFrame(columns=selected_features)\n",
    "cds_sequences = SeqIO.parse(open(cds_file),'fasta')\n",
    "for fasta in tqdm(cds_sequences):\n",
    "    current_df = parse_description(fasta.description, str(fasta.seq))\n",
    "    cds_df = pd.concat([cds_df, current_df.loc[:, selected_features]])\n",
    "    "
   ]
  },
  {
   "cell_type": "code",
   "execution_count": 17,
   "metadata": {},
   "outputs": [
    {
     "name": "stdout",
     "output_type": "stream",
     "text": [
      "30602\n"
     ]
    },
    {
     "data": {
      "text/html": [
       "<div>\n",
       "<style scoped>\n",
       "    .dataframe tbody tr th:only-of-type {\n",
       "        vertical-align: middle;\n",
       "    }\n",
       "\n",
       "    .dataframe tbody tr th {\n",
       "        vertical-align: top;\n",
       "    }\n",
       "\n",
       "    .dataframe thead th {\n",
       "        text-align: right;\n",
       "    }\n",
       "</style>\n",
       "<table border=\"1\" class=\"dataframe\">\n",
       "  <thead>\n",
       "    <tr style=\"text-align: right;\">\n",
       "      <th></th>\n",
       "      <th>name</th>\n",
       "      <th>dbxref</th>\n",
       "      <th>type</th>\n",
       "      <th>length</th>\n",
       "      <th>seq</th>\n",
       "    </tr>\n",
       "  </thead>\n",
       "  <tbody>\n",
       "    <tr>\n",
       "      <th>1</th>\n",
       "      <td>Nep3-RA</td>\n",
       "      <td>FlyBase:FBpp0070000,FlyBase_Annotation_IDs:CG9...</td>\n",
       "      <td>CDS</td>\n",
       "      <td>2361</td>\n",
       "      <td>ATGACGCGCTACAAGCAGACCGAATTCACGGAGGACGACTCGAGTT...</td>\n",
       "    </tr>\n",
       "    <tr>\n",
       "      <th>1</th>\n",
       "      <td>Nep3-RB</td>\n",
       "      <td>REFSEQ:NP_001245775,GB_protein:AFH07487,FlyBas...</td>\n",
       "      <td>CDS</td>\n",
       "      <td>2361</td>\n",
       "      <td>ATGACGCGCTACAAGCAGACCGAATTCACGGAGGACGACTCGAGTT...</td>\n",
       "    </tr>\n",
       "    <tr>\n",
       "      <th>1</th>\n",
       "      <td>Nep3-RC</td>\n",
       "      <td>REFSEQ:NP_001245776,GB_protein:AFH07488,FlyBas...</td>\n",
       "      <td>CDS</td>\n",
       "      <td>2361</td>\n",
       "      <td>ATGACGCGCTACAAGCAGACCGAATTCACGGAGGACGACTCGAGTT...</td>\n",
       "    </tr>\n",
       "    <tr>\n",
       "      <th>1</th>\n",
       "      <td>CG9570-RA</td>\n",
       "      <td>FlyBase:FBpp0070001,FlyBase_Annotation_IDs:CG9...</td>\n",
       "      <td>CDS</td>\n",
       "      <td>633</td>\n",
       "      <td>ATGACCTGCACATTGGTACTCCTGATTGCCAGCGTTCTGCACTTCC...</td>\n",
       "    </tr>\n",
       "    <tr>\n",
       "      <th>1</th>\n",
       "      <td>Or19b-RA</td>\n",
       "      <td>FlyBase:FBpp0070002,FlyBase_Annotation_IDs:CG3...</td>\n",
       "      <td>CDS</td>\n",
       "      <td>1164</td>\n",
       "      <td>ATGGACATATCGAAGGTGGATTCAACGAGGGCTCTGGTTAACCACT...</td>\n",
       "    </tr>\n",
       "    <tr>\n",
       "      <th>...</th>\n",
       "      <td>...</td>\n",
       "      <td>...</td>\n",
       "      <td>...</td>\n",
       "      <td>...</td>\n",
       "      <td>...</td>\n",
       "    </tr>\n",
       "    <tr>\n",
       "      <th>1</th>\n",
       "      <td>CG13950-RB</td>\n",
       "      <td>FlyBase:FBpp0402782,FlyBase_Annotation_IDs:CG1...</td>\n",
       "      <td>CDS</td>\n",
       "      <td>951</td>\n",
       "      <td>ATGAACGTTTGGAAAGCAAAGGTCCTAACGGAGGTCCCATTCGGAC...</td>\n",
       "    </tr>\n",
       "    <tr>\n",
       "      <th>1</th>\n",
       "      <td>ninaA-RA</td>\n",
       "      <td>FlyBase:FBpp0077688,FlyBase_Annotation_IDs:CG3...</td>\n",
       "      <td>CDS</td>\n",
       "      <td>714</td>\n",
       "      <td>ATGAAGTCATTGCTCAATCGGATAATCCTGTGCAGCGCCTTTCTGG...</td>\n",
       "    </tr>\n",
       "    <tr>\n",
       "      <th>1</th>\n",
       "      <td>Lsp1beta-RA</td>\n",
       "      <td>FlyBase:FBpp0077690,FlyBase_Annotation_IDs:CG4...</td>\n",
       "      <td>CDS</td>\n",
       "      <td>2370</td>\n",
       "      <td>ATGAAGATCGCCATCGCATTGCTGGCCTGCCTGGGCCTGGCCGCCG...</td>\n",
       "    </tr>\n",
       "    <tr>\n",
       "      <th>1</th>\n",
       "      <td>Lsp1beta-RB</td>\n",
       "      <td>FlyBase:FBpp0311765,FlyBase_Annotation_IDs:CG4...</td>\n",
       "      <td>CDS</td>\n",
       "      <td>2370</td>\n",
       "      <td>ATGAAGATCGCCATCGCATTGCTGGCCTGCCTGGGCCTGGCCGCCG...</td>\n",
       "    </tr>\n",
       "    <tr>\n",
       "      <th>1</th>\n",
       "      <td>GluRIIC-RD</td>\n",
       "      <td>REFSEQ:NP_608557,GB_protein:AAF51433,FlyBase:F...</td>\n",
       "      <td>CDS</td>\n",
       "      <td>2823</td>\n",
       "      <td>ATGTGGCAGCGCATACTTTTGCTCGGCTGCATGTGGAGTGCATTTT...</td>\n",
       "    </tr>\n",
       "  </tbody>\n",
       "</table>\n",
       "<p>30602 rows × 5 columns</p>\n",
       "</div>"
      ],
      "text/plain": [
       "           name                                             dbxref type  \\\n",
       "1       Nep3-RA  FlyBase:FBpp0070000,FlyBase_Annotation_IDs:CG9...  CDS   \n",
       "1       Nep3-RB  REFSEQ:NP_001245775,GB_protein:AFH07487,FlyBas...  CDS   \n",
       "1       Nep3-RC  REFSEQ:NP_001245776,GB_protein:AFH07488,FlyBas...  CDS   \n",
       "1     CG9570-RA  FlyBase:FBpp0070001,FlyBase_Annotation_IDs:CG9...  CDS   \n",
       "1      Or19b-RA  FlyBase:FBpp0070002,FlyBase_Annotation_IDs:CG3...  CDS   \n",
       "..          ...                                                ...  ...   \n",
       "1    CG13950-RB  FlyBase:FBpp0402782,FlyBase_Annotation_IDs:CG1...  CDS   \n",
       "1      ninaA-RA  FlyBase:FBpp0077688,FlyBase_Annotation_IDs:CG3...  CDS   \n",
       "1   Lsp1beta-RA  FlyBase:FBpp0077690,FlyBase_Annotation_IDs:CG4...  CDS   \n",
       "1   Lsp1beta-RB  FlyBase:FBpp0311765,FlyBase_Annotation_IDs:CG4...  CDS   \n",
       "1    GluRIIC-RD  REFSEQ:NP_608557,GB_protein:AAF51433,FlyBase:F...  CDS   \n",
       "\n",
       "   length                                                seq  \n",
       "1    2361  ATGACGCGCTACAAGCAGACCGAATTCACGGAGGACGACTCGAGTT...  \n",
       "1    2361  ATGACGCGCTACAAGCAGACCGAATTCACGGAGGACGACTCGAGTT...  \n",
       "1    2361  ATGACGCGCTACAAGCAGACCGAATTCACGGAGGACGACTCGAGTT...  \n",
       "1     633  ATGACCTGCACATTGGTACTCCTGATTGCCAGCGTTCTGCACTTCC...  \n",
       "1    1164  ATGGACATATCGAAGGTGGATTCAACGAGGGCTCTGGTTAACCACT...  \n",
       "..    ...                                                ...  \n",
       "1     951  ATGAACGTTTGGAAAGCAAAGGTCCTAACGGAGGTCCCATTCGGAC...  \n",
       "1     714  ATGAAGTCATTGCTCAATCGGATAATCCTGTGCAGCGCCTTTCTGG...  \n",
       "1    2370  ATGAAGATCGCCATCGCATTGCTGGCCTGCCTGGGCCTGGCCGCCG...  \n",
       "1    2370  ATGAAGATCGCCATCGCATTGCTGGCCTGCCTGGGCCTGGCCGCCG...  \n",
       "1    2823  ATGTGGCAGCGCATACTTTTGCTCGGCTGCATGTGGAGTGCATTTT...  \n",
       "\n",
       "[30602 rows x 5 columns]"
      ]
     },
     "execution_count": 17,
     "metadata": {},
     "output_type": "execute_result"
    }
   ],
   "source": [
    "print(cds_df['name'].nunique())\n",
    "cds_df"
   ]
  },
  {
   "cell_type": "code",
   "execution_count": 20,
   "metadata": {},
   "outputs": [
    {
     "data": {
      "application/vnd.jupyter.widget-view+json": {
       "model_id": "16f9c6511563452abd08bd0c4a935ff8",
       "version_major": 2,
       "version_minor": 0
      },
      "text/plain": [
       "  0%|          | 0/30602 [00:00<?, ?it/s]"
      ]
     },
     "metadata": {},
     "output_type": "display_data"
    },
    {
     "data": {
      "application/vnd.jupyter.widget-view+json": {
       "model_id": "ffccda664c17429fb38b4e33f27a0475",
       "version_major": 2,
       "version_minor": 0
      },
      "text/plain": [
       "  0%|          | 0/30602 [00:00<?, ?it/s]"
      ]
     },
     "metadata": {},
     "output_type": "display_data"
    },
    {
     "data": {
      "text/plain": [
       "30602"
      ]
     },
     "execution_count": 20,
     "metadata": {},
     "output_type": "execute_result"
    }
   ],
   "source": [
    "from Bio.Seq import Seq\n",
    "from Bio.SeqRecord import SeqRecord\n",
    "\n",
    "rna_records = []\n",
    "for i in tqdm(range(0, rna_df.shape[0])):\n",
    "    curent_record = SeqRecord(\n",
    "    Seq(rna_df.iloc[i, :]['seq']),\n",
    "    id=rna_df.iloc[i, :]['name'],\n",
    "    description='')\n",
    "    rna_records.append(curent_record)\n",
    "\n",
    "output_file = '/home/unix/jiahao/wanglab/Documents/probe/Drosophila/rna.fa'\n",
    "SeqIO.write(rna_records, output_file, \"fasta\")\n",
    "\n",
    "\n",
    "cds_records = []\n",
    "for i in tqdm(range(0, cds_df.shape[0])):\n",
    "    curent_record = SeqRecord(\n",
    "    Seq(cds_df.iloc[i, :]['seq']),\n",
    "    id=cds_df.iloc[i, :]['name'],\n",
    "    description='')\n",
    "    cds_records.append(curent_record)\n",
    "\n",
    "output_file = '/home/unix/jiahao/wanglab/Documents/probe/Drosophila/cds.fa'\n",
    "SeqIO.write(cds_records, output_file, \"fasta\")\n"
   ]
  },
  {
   "cell_type": "code",
   "execution_count": null,
   "metadata": {},
   "outputs": [],
   "source": []
  }
 ],
 "metadata": {
  "kernelspec": {
   "display_name": "probe",
   "language": "python",
   "name": "python3"
  },
  "language_info": {
   "codemirror_mode": {
    "name": "ipython",
    "version": 3
   },
   "file_extension": ".py",
   "mimetype": "text/x-python",
   "name": "python",
   "nbconvert_exporter": "python",
   "pygments_lexer": "ipython3",
   "version": "3.9.0"
  }
 },
 "nbformat": 4,
 "nbformat_minor": 2
}
